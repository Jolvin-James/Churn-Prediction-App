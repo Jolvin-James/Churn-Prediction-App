{
 "cells": [
  {
   "cell_type": "code",
   "execution_count": null,
   "id": "410b1454",
   "metadata": {},
   "outputs": [],
   "source": [
    "import pandas as pd\n",
    "from sklearn.preprocessing  import StandardScaler, LabelEncoder\n",
    "import matplotlib.pyplot as plt\n",
    "import seaborn as sns\n",
    "from sklearn.model_selection import GridSearchCV, train_test_split\n",
    "from sklearn.linear_model import LogisticRegression\n",
    "from sklearn.neighbors import KNeighborsClassifier\n",
    "from sklearn.tree import DecisionTreeClassifier\n",
    "from sklearn.ensemble import RandomForestClassifier\n",
    "from sklearn.svm import SVC\n",
    "from xgboost import XGBClassifier\n",
    "from sklearn.metrics import classification_report, confusion_matrix, roc_auc_score, accuracy_score\n",
    "import joblib \n",
    "import warnings\n",
    "warnings.filterwarnings(\"ignore\")"
   ]
  },
  {
   "cell_type": "code",
   "execution_count": null,
   "id": "c9e53d80",
   "metadata": {},
   "outputs": [],
   "source": [
    "train_df = pd.read_csv(\"customer_churn_dataset-training-master.csv\")\n",
    "test_df = pd.read_csv(\"customer_churn_dataset-testing-master.csv\")"
   ]
  },
  {
   "cell_type": "code",
   "execution_count": null,
   "id": "8ae3b175",
   "metadata": {},
   "outputs": [],
   "source": [
    "train_df.drop(columns=['CustomerID'], inplace=True)\n",
    "test_df.drop(columns=['CustomerID'], inplace=True)"
   ]
  },
  {
   "cell_type": "code",
   "execution_count": null,
   "id": "07b5776f",
   "metadata": {},
   "outputs": [],
   "source": [
    "train_df.tail(40)"
   ]
  },
  {
   "cell_type": "code",
   "execution_count": null,
   "id": "e74930fa",
   "metadata": {},
   "outputs": [],
   "source": [
    "train_df.info()"
   ]
  },
  {
   "cell_type": "code",
   "execution_count": null,
   "id": "19371066",
   "metadata": {},
   "outputs": [],
   "source": [
    "train_df.isnull().sum()"
   ]
  },
  {
   "cell_type": "code",
   "execution_count": null,
   "id": "7941fb5d",
   "metadata": {},
   "outputs": [],
   "source": [
    "train_df.shape"
   ]
  },
  {
   "cell_type": "code",
   "execution_count": null,
   "id": "652836cc",
   "metadata": {},
   "outputs": [],
   "source": [
    "train_df.describe()"
   ]
  },
  {
   "cell_type": "code",
   "execution_count": null,
   "id": "16584a0e",
   "metadata": {},
   "outputs": [],
   "source": [
    "train_df.duplicated().sum()"
   ]
  },
  {
   "cell_type": "code",
   "execution_count": null,
   "id": "648cb32b",
   "metadata": {},
   "outputs": [],
   "source": [
    "if train_df['Churn'].isnull().any():\n",
    "    print(\"Missing values found in target (Churn). Filling or dropping them.\")\n",
    "    train_df = train_df.dropna(subset=['Churn'])"
   ]
  },
  {
   "cell_type": "code",
   "execution_count": null,
   "id": "5b957a0e",
   "metadata": {},
   "outputs": [],
   "source": [
    "## Count Plot for Gender\n",
    "plt.figure(figsize=(6, 4))\n",
    "sns.countplot(x='Gender', data=train_df)\n",
    "plt.title('Count of Gender')\n",
    "plt.show()"
   ]
  },
  {
   "cell_type": "markdown",
   "id": "e88ca777",
   "metadata": {},
   "source": [
    "## Preprocessing"
   ]
  },
  {
   "cell_type": "code",
   "execution_count": null,
   "id": "00228e76",
   "metadata": {},
   "outputs": [],
   "source": [
    "le = LabelEncoder()\n",
    "for col in ['Gender', 'Subscription Type', 'Contract Length']:\n",
    "    train_df[col] = le.fit_transform(train_df[col])\n",
    "    test_df[col]  = le.transform(test_df[col])"
   ]
  },
  {
   "cell_type": "code",
   "execution_count": null,
   "id": "09ba3be5",
   "metadata": {},
   "outputs": [],
   "source": [
    "train_df.head()"
   ]
  },
  {
   "cell_type": "code",
   "execution_count": null,
   "id": "a5a2e37d",
   "metadata": {},
   "outputs": [],
   "source": [
    "## Count Plot for Churn\n",
    "plt.figure(figsize=(6, 4))\n",
    "sns.countplot(x='Churn', data=train_df)\n",
    "plt.title('Churn Distribution')\n",
    "plt.show()"
   ]
  },
  {
   "cell_type": "markdown",
   "id": "43ce7f97",
   "metadata": {},
   "source": [
    "## Feature Selection"
   ]
  },
  {
   "cell_type": "code",
   "execution_count": null,
   "id": "d71adc8a",
   "metadata": {},
   "outputs": [],
   "source": [
    "X = train_df.drop(columns=['Churn'])\n",
    "y = train_df['Churn']"
   ]
  },
  {
   "cell_type": "code",
   "execution_count": null,
   "id": "252fada4",
   "metadata": {},
   "outputs": [],
   "source": [
    "X_train, X_test, y_train, y_test = train_test_split(X, y, test_size=0.2, random_state=42)"
   ]
  },
  {
   "cell_type": "code",
   "execution_count": null,
   "id": "1c4918fd",
   "metadata": {},
   "outputs": [],
   "source": []
  },
  {
   "cell_type": "code",
   "execution_count": null,
   "id": "5aa05107",
   "metadata": {},
   "outputs": [],
   "source": [
    "# plt.figure(figsize=(12,12))\n",
    "# sns.heatmap(train_df.corr(), annot=True, fmt=\".2f\", cmap='coolwarm')\n",
    "# plt.title('Correlation Heatmap')"
   ]
  },
  {
   "cell_type": "code",
   "execution_count": null,
   "id": "7417a20b",
   "metadata": {},
   "outputs": [],
   "source": [
    "## Pair Plot\n",
    "sns.pairplot(train_df.dropna())\n",
    "plt.suptitle('Pair Plot of Numerical Features', y=1.02)\n",
    "plt.show()"
   ]
  },
  {
   "cell_type": "code",
   "execution_count": null,
   "id": "b8b18808",
   "metadata": {},
   "outputs": [],
   "source": [
    "## Histogram for Age\n",
    "plt.figure(figsize=(8, 4))\n",
    "sns.histplot(train_df['Age'].dropna(), bins=30)\n",
    "plt.title('Distribution of Age')\n",
    "plt.show()"
   ]
  },
  {
   "cell_type": "code",
   "execution_count": null,
   "id": "74da0788",
   "metadata": {},
   "outputs": [],
   "source": [
    "train_df[\"Churn\"].value_counts()"
   ]
  },
  {
   "cell_type": "code",
   "execution_count": null,
   "id": "59fe0878",
   "metadata": {},
   "outputs": [],
   "source": [
    "train_df[\"Churn\"].value_counts().plot(kind='pie', color=['blue', 'orange'])\n",
    "plt.title(\"Churn Distribution [Yes/No]\")\n",
    "plt.ylabel(\"\")\n",
    "plt.show()"
   ]
  },
  {
   "cell_type": "code",
   "execution_count": null,
   "id": "49844a32",
   "metadata": {},
   "outputs": [],
   "source": [
    "train_df.groupby(\"Churn\")[\"Usage Frequency\"].mean()"
   ]
  },
  {
   "cell_type": "code",
   "execution_count": null,
   "id": "2847cbb2",
   "metadata": {},
   "outputs": [],
   "source": [
    "train_df.groupby([\"Churn\", \"Age\"])[\"Tenure\"].mean()"
   ]
  },
  {
   "cell_type": "code",
   "execution_count": null,
   "id": "b011867c",
   "metadata": {},
   "outputs": [],
   "source": [
    "train_df.columns"
   ]
  },
  {
   "cell_type": "markdown",
   "id": "55d5c487",
   "metadata": {},
   "source": [
    "## Scaling"
   ]
  },
  {
   "cell_type": "code",
   "execution_count": null,
   "id": "e3908e63",
   "metadata": {},
   "outputs": [],
   "source": [
    "# Scale the data (optional for XGBoost but good for consistency)\n",
    "scaler = StandardScaler()\n",
    "X_train = scaler.fit_transform(X_train)\n",
    "X_test = scaler.transform(X_test)"
   ]
  },
  {
   "cell_type": "code",
   "execution_count": null,
   "id": "3523ccc5",
   "metadata": {},
   "outputs": [],
   "source": [
    "joblib.dump(scaler, 'scaler.pkl')"
   ]
  },
  {
   "cell_type": "code",
   "execution_count": null,
   "id": "68ae8750",
   "metadata": {},
   "outputs": [],
   "source": [
    "def modelperformance(predictions):\n",
    "    print(\"Accuracy Score on model is: {}\".format(accuracy_score(y_test, predictions)))"
   ]
  },
  {
   "cell_type": "markdown",
   "id": "c296f55a",
   "metadata": {},
   "source": [
    "## Logistic Regression"
   ]
  },
  {
   "cell_type": "code",
   "execution_count": null,
   "id": "0e65cfb9",
   "metadata": {},
   "outputs": [],
   "source": [
    "log_model = LogisticRegression()"
   ]
  },
  {
   "cell_type": "code",
   "execution_count": null,
   "id": "81b49367",
   "metadata": {},
   "outputs": [],
   "source": [
    "log_model.fit(X_train, y_train)"
   ]
  },
  {
   "cell_type": "code",
   "execution_count": null,
   "id": "b38dba6f",
   "metadata": {},
   "outputs": [],
   "source": [
    "y_pred_log_simple = log_model.predict(X_test)"
   ]
  },
  {
   "cell_type": "code",
   "execution_count": null,
   "id": "430a6506",
   "metadata": {},
   "outputs": [],
   "source": [
    "modelperformance(y_pred_log_simple)"
   ]
  },
  {
   "cell_type": "markdown",
   "id": "5577fc97",
   "metadata": {},
   "source": [
    "## KNN"
   ]
  },
  {
   "cell_type": "code",
   "execution_count": null,
   "id": "e215d062",
   "metadata": {},
   "outputs": [],
   "source": [
    "# simple run without grid search\n",
    "knn_model = KNeighborsClassifier(n_neighbors=5)\n",
    "knn_model.fit(X_train, y_train)"
   ]
  },
  {
   "cell_type": "code",
   "execution_count": null,
   "id": "2cb0eca2",
   "metadata": {},
   "outputs": [],
   "source": [
    "y_pred_knn_simple = knn_model.predict(X_test)"
   ]
  },
  {
   "cell_type": "code",
   "execution_count": null,
   "id": "3d76bad2",
   "metadata": {},
   "outputs": [],
   "source": [
    "modelperformance(y_pred_knn_simple)"
   ]
  },
  {
   "cell_type": "code",
   "execution_count": null,
   "id": "bdead54d",
   "metadata": {},
   "outputs": [],
   "source": [
    "# knn with grid search\n",
    "# Hyperparameter tuning for KNN\n",
    "param_grid = {\n",
    "    \"n_neighbors\": [3, 5, 7, 9],\n",
    "    \"weights\": [\"uniform\", \"distance\"],\n",
    "}"
   ]
  },
  {
   "cell_type": "code",
   "execution_count": null,
   "id": "a33ed4c5",
   "metadata": {},
   "outputs": [],
   "source": [
    "gridkn = GridSearchCV(KNeighborsClassifier(), param_grid, cv=5)\n",
    "gridkn.fit(X_train, y_train)"
   ]
  },
  {
   "cell_type": "code",
   "execution_count": null,
   "metadata": {},
   "outputs": [],
   "source": [
    "gridkn.best_params_"
   ]
  },
  {
   "cell_type": "code",
   "execution_count": null,
   "id": "d1f8117f",
   "metadata": {},
   "outputs": [],
   "source": [
    "y_pred_kn = gridkn.predict(X_test)"
   ]
  },
  {
   "cell_type": "code",
   "execution_count": null,
   "id": "5ba3a686",
   "metadata": {},
   "outputs": [],
   "source": [
    "modelperformance(y_pred_kn)"
   ]
  },
  {
   "cell_type": "markdown",
   "id": "fcaacc68",
   "metadata": {},
   "source": [
    "## SVM"
   ]
  },
  {
   "cell_type": "code",
   "execution_count": null,
   "id": "aac65431",
   "metadata": {},
   "outputs": [],
   "source": [
    "# SVM without grid search\n",
    "svm = SVC()"
   ]
  },
  {
   "cell_type": "code",
   "execution_count": null,
   "id": "25819811",
   "metadata": {},
   "outputs": [],
   "source": [
    "svm.fit(X_train, y_train)"
   ]
  },
  {
   "cell_type": "code",
   "execution_count": null,
   "id": "69277d41",
   "metadata": {},
   "outputs": [],
   "source": [
    "y_pred_svc_simple = svm.predict(X_test)"
   ]
  },
  {
   "cell_type": "code",
   "execution_count": null,
   "id": "2f34b7e8",
   "metadata": {},
   "outputs": [],
   "source": [
    "modelperformance(y_pred_svc_simple)"
   ]
  },
  {
   "cell_type": "code",
   "execution_count": null,
   "id": "fb162b0a",
   "metadata": {},
   "outputs": [],
   "source": [
    "# SVM with grid search\n",
    "param_grid = {\n",
    "    'C': [0.01, 0.1, 0.5, 1],\n",
    "    'kernel': ['linear', 'rbf', 'poly'],\n",
    "}"
   ]
  },
  {
   "cell_type": "code",
   "execution_count": null,
   "id": "45a163e1",
   "metadata": {},
   "outputs": [],
   "source": [
    "gridsvc = GridSearchCV(svm, param_grid, cv = 5)"
   ]
  },
  {
   "cell_type": "code",
   "execution_count": null,
   "id": "1bf416df",
   "metadata": {},
   "outputs": [],
   "source": [
    "gridsvc.fit(X_train, y_train)"
   ]
  },
  {
   "cell_type": "code",
   "execution_count": null,
   "id": "ee8051bd",
   "metadata": {},
   "outputs": [],
   "source": [
    "gridsvc.best_params_"
   ]
  },
  {
   "cell_type": "code",
   "execution_count": null,
   "id": "14194c1f",
   "metadata": {},
   "outputs": [],
   "source": [
    "y_pred_svc = gridsvc.predict(X_test)"
   ]
  },
  {
   "cell_type": "code",
   "execution_count": null,
   "id": "9b110610",
   "metadata": {},
   "outputs": [],
   "source": [
    "modelperformance(y_pred_svc)"
   ]
  },
  {
   "cell_type": "markdown",
   "id": "91bf01d7",
   "metadata": {},
   "source": [
    "## Decision Tree"
   ]
  },
  {
   "cell_type": "code",
   "execution_count": null,
   "id": "10d314a5",
   "metadata": {},
   "outputs": [],
   "source": [
    "# Decision Tree without grid search\n",
    "dt_model = DecisionTreeClassifier()"
   ]
  },
  {
   "cell_type": "code",
   "execution_count": null,
   "id": "8fc79f13",
   "metadata": {},
   "outputs": [],
   "source": [
    "dt_model.fit(X_train, y_train)"
   ]
  },
  {
   "cell_type": "code",
   "execution_count": null,
   "id": "e9c0559f",
   "metadata": {},
   "outputs": [],
   "source": [
    "y_pred_dtree_simple = dt_model.predict(X_test)"
   ]
  },
  {
   "cell_type": "code",
   "execution_count": null,
   "id": "03688fbb",
   "metadata": {},
   "outputs": [],
   "source": [
    "modelperformance(y_pred_dtree_simple)"
   ]
  },
  {
   "cell_type": "code",
   "execution_count": null,
   "id": "6e6b11bb",
   "metadata": {},
   "outputs": [],
   "source": [
    "# Decision tree with grid search\n",
    "param_grid = {\n",
    "    \"criterion\": [\"gini\", \"entropy\"],\n",
    "    \"splitter\": [\"best\", \"random\"],\n",
    "    \"max_depth\": [None, 10, 20, 30],\n",
    "    \"min_samples_split\": [2, 5, 10],\n",
    "    \"min_samples_leaf\": [1, 2, 4]\n",
    "}"
   ]
  },
  {
   "cell_type": "code",
   "execution_count": null,
   "id": "61ab5686",
   "metadata": {},
   "outputs": [],
   "source": [
    "gridtree = GridSearchCV(DecisionTreeClassifier(), param_grid, cv=5)"
   ]
  },
  {
   "cell_type": "code",
   "execution_count": null,
   "id": "7bc019d6",
   "metadata": {},
   "outputs": [],
   "source": [
    "gridtree.fit(X_train, y_train)"
   ]
  },
  {
   "cell_type": "code",
   "execution_count": null,
   "id": "df07e497",
   "metadata": {},
   "outputs": [],
   "source": [
    "gridtree.best_params_"
   ]
  },
  {
   "cell_type": "code",
   "execution_count": null,
   "id": "eb503ee3",
   "metadata": {},
   "outputs": [],
   "source": [
    "y_pred_dtree = gridtree.predict(X_test)"
   ]
  },
  {
   "cell_type": "code",
   "execution_count": null,
   "id": "1eb0dbfa",
   "metadata": {},
   "outputs": [],
   "source": [
    "modelperformance(y_pred_dtree)"
   ]
  },
  {
   "cell_type": "markdown",
   "id": "d575ffc3",
   "metadata": {},
   "source": [
    "## Random Forest"
   ]
  },
  {
   "cell_type": "code",
   "execution_count": null,
   "id": "fec142d9",
   "metadata": {},
   "outputs": [],
   "source": [
    "# Random Forest without grid search\n",
    "rf_model = RandomForestClassifier(random_state=42)\n",
    "rf_model.fit(X_train, y_train)"
   ]
  },
  {
   "cell_type": "code",
   "execution_count": null,
   "id": "1c65a06e",
   "metadata": {},
   "outputs": [],
   "source": [
    "y_pred_rfc_simple = rf_model.predict(X_test)"
   ]
  },
  {
   "cell_type": "code",
   "execution_count": null,
   "id": "7ce1d50c",
   "metadata": {},
   "outputs": [],
   "source": [
    "modelperformance(y_pred_rfc_simple)"
   ]
  },
  {
   "cell_type": "code",
   "execution_count": null,
   "id": "8f01e41b",
   "metadata": {},
   "outputs": [],
   "source": [
    "# Random Forest with grid search\n",
    "param_grid = {\n",
    "    \"n_estimators\": [32, 64, 128, 256],\n",
    "    \"max_features\": [2, 3, 4],\n",
    "    \"bootstrap\": [True, False]\n",
    "}"
   ]
  },
  {
   "cell_type": "code",
   "execution_count": null,
   "id": "dc473001",
   "metadata": {},
   "outputs": [],
   "source": [
    "gridrfc = GridSearchCV(rf_model, param_grid, cv=5)"
   ]
  },
  {
   "cell_type": "code",
   "execution_count": null,
   "id": "a6127b20",
   "metadata": {},
   "outputs": [],
   "source": [
    "gridrfc.fit(X_train, y_train)"
   ]
  },
  {
   "cell_type": "code",
   "execution_count": null,
   "id": "9949a261",
   "metadata": {},
   "outputs": [],
   "source": [
    "gridrfc.best_params_"
   ]
  },
  {
   "cell_type": "code",
   "execution_count": null,
   "id": "8ccf5906",
   "metadata": {},
   "outputs": [],
   "source": [
    "y_pred_rfc = gridrfc.predict(X_test)"
   ]
  },
  {
   "cell_type": "code",
   "execution_count": null,
   "id": "9a34a538",
   "metadata": {},
   "outputs": [],
   "source": [
    "modelperformance(y_pred_rfc)"
   ]
  },
  {
   "cell_type": "markdown",
   "id": "8dc9792c",
   "metadata": {},
   "source": [
    "## XGBoost"
   ]
  },
  {
   "cell_type": "code",
   "execution_count": null,
   "id": "20aba1d6",
   "metadata": {},
   "outputs": [],
   "source": [
    "# Calculate imbalance ratio\n",
    "imbalance_ratio = y_train.value_counts()[0] / y_train.value_counts()[1]"
   ]
  },
  {
   "cell_type": "code",
   "execution_count": null,
   "id": "70c586bf",
   "metadata": {},
   "outputs": [],
   "source": [
    "# Train XGBoost\n",
    "# scale_pos_weight=imbalance_ratio,\n",
    "model_xgb = XGBClassifier(\n",
    "    use_label_encoder=False,\n",
    "    eval_metric='logloss',\n",
    "    random_state=42\n",
    ")\n",
    "model_xgb.fit(X_train, y_train)"
   ]
  },
  {
   "cell_type": "code",
   "execution_count": null,
   "id": "a681d92c",
   "metadata": {},
   "outputs": [],
   "source": [
    "# Predictions and evaluation\n",
    "y_pred_xgb_simple = model_xgb.predict(X_test)\n",
    "y_proba = model_xgb.predict_proba(X_test)[:, 1]"
   ]
  },
  {
   "cell_type": "code",
   "execution_count": null,
   "id": "4d59a6cd",
   "metadata": {},
   "outputs": [],
   "source": [
    "modelperformance(y_pred_xgb_simple)"
   ]
  },
  {
   "cell_type": "markdown",
   "id": "00db54b1",
   "metadata": {},
   "source": [
    "## Choosing the best perfomance and saving the file in pkl format"
   ]
  },
  {
   "cell_type": "code",
   "execution_count": null,
   "id": "fff079ed",
   "metadata": {},
   "outputs": [],
   "source": [
    "# best_model = gridtree.best_estimator_\n",
    "best_model = gridtree"
   ]
  },
  {
   "cell_type": "code",
   "execution_count": null,
   "id": "a6bc4f1b",
   "metadata": {},
   "outputs": [],
   "source": [
    "joblib.dump(best_model, 'model.pkl')"
   ]
  },
  {
   "cell_type": "markdown",
   "id": "c857471f",
   "metadata": {},
   "source": [
    "## Storing other models predictions"
   ]
  },
  {
   "cell_type": "code",
   "execution_count": null,
   "id": "86a66640",
   "metadata": {},
   "outputs": [],
   "source": [
    "model_logistic = y_pred_kn \n",
    "joblib.dump(model_logistic, 'model_logistic.pkl')"
   ]
  },
  {
   "cell_type": "code",
   "execution_count": null,
   "id": "ad21254b",
   "metadata": {},
   "outputs": [],
   "source": [
    "model_svc = y_pred_svc \n",
    "joblib.dump(model_svc, 'model_svc.pkl')"
   ]
  },
  {
   "cell_type": "code",
   "execution_count": null,
   "id": "0b9d4d57",
   "metadata": {},
   "outputs": [],
   "source": [
    "model_xgboost = y_pred_xgb_simple\n",
    "joblib.dump(model_xgb, 'model_xgb.pkl')"
   ]
  },
  {
   "cell_type": "code",
   "execution_count": null,
   "id": "ce54fade",
   "metadata": {},
   "outputs": [],
   "source": [
    "X.columns"
   ]
  },
  {
   "cell_type": "code",
   "execution_count": null,
   "id": "4f1c271b",
   "metadata": {},
   "outputs": [],
   "source": [
    "train_df.head(20)"
   ]
  },
  {
   "cell_type": "code",
   "execution_count": null,
   "id": "33939174",
   "metadata": {},
   "outputs": [],
   "source": [
    "plt.figure(figsize=(12, 12))\n",
    "sns.countplot(x=\"Last Interaction\", data=train_df)\n",
    "plt.title(\"Support Calls Distribution\")\n",
    "plt.show()"
   ]
  },
  {
   "cell_type": "code",
   "execution_count": null,
   "id": "8d53be41",
   "metadata": {},
   "outputs": [],
   "source": [
    "# Extract importances\n",
    "feature_importances = dt_model.feature_importances_\n",
    "\n",
    "# Because we scaled directly on X_train, the names are just the columns of X_train\n",
    "feature_names = X_train.columns.tolist()\n",
    "\n",
    "# 6. Build and sort a DataFrame\n",
    "feature_importances_df = (\n",
    "    pd.DataFrame({\n",
    "        'Feature': feature_names,\n",
    "        'Importance': feature_importances\n",
    "    })\n",
    "    .sort_values('Importance', ascending=False)\n",
    ")"
   ]
  },
  {
   "cell_type": "code",
   "execution_count": null,
   "id": "a7c3e187",
   "metadata": {},
   "outputs": [],
   "source": [
    "# Plot\n",
    "plt.figure(figsize=(12, 8))\n",
    "plt.barh(feature_importances_df['Feature'], feature_importances_df['Importance'])\n",
    "plt.xlabel('Importance')\n",
    "plt.ylabel('Feature')\n",
    "plt.title('Feature Importances (Decision Tree)')\n",
    "plt.gca().invert_yaxis()\n",
    "plt.tight_layout()\n",
    "plt.show()\n",
    "\n",
    "# Inspect the sorted importances\n",
    "print(feature_importances_df)"
   ]
  },
  {
   "cell_type": "code",
   "execution_count": null,
   "id": "9507a86f",
   "metadata": {},
   "outputs": [],
   "source": [
    "from collections import Counter\n",
    "print(Counter(y_train))  \n"
   ]
  },
  {
   "cell_type": "code",
   "execution_count": null,
   "id": "dac6a97d",
   "metadata": {},
   "outputs": [],
   "source": [
    "import numpy as np\n",
    "\n",
    "\n",
    "# Create a DataFrame with actual and predicted values\n",
    "results = pd.DataFrame({'Actual': y_test, 'Predicted': y_pred_dtree})\n",
    "\n",
    "# Calculate the counts of actual and predicted values\n",
    "actual_counts = results['Actual'].value_counts().sort_index()\n",
    "predicted_counts = results['Predicted'].value_counts().sort_index()\n",
    "\n",
    "# Create a bar plot\n",
    "labels = ['No Churn', 'Churn']\n",
    "x = np.arange(len(labels))  # the label locations\n",
    "width = 0.35  # the width of the bars\n",
    "\n",
    "fig, ax = plt.subplots(figsize=(10, 6))\n",
    "rects1 = ax.bar(x - width/2, actual_counts, width, label='Actual')\n",
    "rects2 = ax.bar(x + width/2, predicted_counts, width, label='Predicted')\n",
    "\n",
    "# Add some text for labels, title and custom x-axis tick labels, etc.\n",
    "ax.set_xlabel('Churn')\n",
    "ax.set_ylabel('Count')\n",
    "ax.set_title('Actual vs Predicted Churn')\n",
    "ax.set_xticks(x)\n",
    "ax.set_xticklabels(labels)\n",
    "ax.legend()\n",
    "\n",
    "# Add data labels\n",
    "def add_labels(rects):\n",
    "    for rect in rects:\n",
    "        height = rect.get_height()\n",
    "        ax.annotate('{}'.format(height),\n",
    "                    xy=(rect.get_x() + rect.get_width() / 2, height),\n",
    "                    xytext=(0, 3),  # 3 points vertical offset\n",
    "                    textcoords=\"offset points\",\n",
    "                    ha='center', va='bottom')\n",
    "\n",
    "add_labels(rects1)\n",
    "add_labels(rects2)\n",
    "\n",
    "fig.tight_layout()\n",
    "plt.show()"
   ]
  },
  {
   "cell_type": "code",
   "execution_count": null,
   "id": "f6ef3b6c",
   "metadata": {},
   "outputs": [],
   "source": [
    "cm = confusion_matrix(y_test, y_pred_dtree_simple)\n",
    "\n",
    "# Plot the confusion matrix\n",
    "plt.figure(figsize=(10, 7))\n",
    "sns.heatmap(cm, annot=True, fmt='d', cmap='Blues', xticklabels=['No Churn', 'Churn'], yticklabels=['No Churn', 'Churn'])\n",
    "plt.xlabel('Predicted')\n",
    "plt.ylabel('Actual')\n",
    "plt.title('Confusion Matrix')\n",
    "plt.show()"
   ]
  },
  {
   "cell_type": "code",
   "execution_count": null,
   "id": "e271d3bf",
   "metadata": {},
   "outputs": [],
   "source": [
    "\n",
    "print(classification_report(y_test, y_pred_dtree_simple))\n"
   ]
  },
  {
   "cell_type": "code",
   "execution_count": null,
   "id": "ab32b83a",
   "metadata": {},
   "outputs": [],
   "source": [
    "train_df.to_csv(\"preprocessed_data.csv\", index=False)"
   ]
  }
 ],
 "metadata": {
  "kernelspec": {
   "display_name": ".venv",
   "language": "python",
   "name": "python3"
  },
  "language_info": {
   "codemirror_mode": {
    "name": "ipython",
    "version": 3
   },
   "file_extension": ".py",
   "mimetype": "text/x-python",
   "name": "python",
   "nbconvert_exporter": "python",
   "pygments_lexer": "ipython3",
   "version": "3.11.9"
  }
 },
 "nbformat": 4,
 "nbformat_minor": 5
}
